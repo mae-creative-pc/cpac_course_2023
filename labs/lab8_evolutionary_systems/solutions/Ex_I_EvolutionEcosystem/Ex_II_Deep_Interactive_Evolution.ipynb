{
  "nbformat": 4,
  "nbformat_minor": 0,
  "metadata": {
    "colab": {
      "provenance": [],
      "gpuType": "T4"
    },
    "kernelspec": {
      "name": "python3",
      "display_name": "Python 3"
    },
    "accelerator": "GPU"
  },
  "cells": [
    {
      "cell_type": "markdown",
      "metadata": {
        "id": "KyaKrPvJxmVw"
      },
      "source": [
        "#Deep Interactive Evolution\n",
        "\n",
        "This colab is an unofficial implementation of the \"Deep Interactive Evolution\" Paper\n",
        "\n",
        "![testo del link](https://d3i71xaburhd42.cloudfront.net/737a3fb82cb23cdd479fd368a45847f2c619d444/4-Figure1-1.png)\n",
        "\n",
        "\n",
        "\n",
        "We'll consider two models of which we are going to \"evolve\" the embeddings\n",
        "\n",
        "* CelebA Progressive GAN Model\n",
        "* MusicVAE\n",
        "\n",
        "\n"
      ]
    },
    {
      "cell_type": "code",
      "metadata": {
        "id": "8K8rqMA7MwPc"
      },
      "source": [
        "import imageio\n",
        "import PIL.Image\n",
        "import matplotlib.pyplot as plt\n",
        "import PIL"
      ],
      "execution_count": null,
      "outputs": []
    },
    {
      "cell_type": "markdown",
      "metadata": {
        "id": "zI0M_apz0NZA"
      },
      "source": [
        "# Imports"
      ]
    },
    {
      "cell_type": "markdown",
      "metadata": {
        "id": "MzikYURz88Xo"
      },
      "source": [
        "# Part I CelebA Progressive GAN Model\n",
        "\n",
        "[Progressive GAN](https://arxiv.org/abs/1710.10196) model that maps N-dimensional latent vectors to RGB images, which in this case correspond to photos of celebrities\n",
        "\n",
        "We'll use a [TensorFlow Hub](https://www.tensorflow.org/hub) pre-trained model to take advantage of the model.\n",
        "\n"
      ]
    },
    {
      "cell_type": "code",
      "metadata": {
        "id": "Ur14Hj-COw_O"
      },
      "source": [
        "!pip install -q git+https://github.com/tensorflow/docs\n",
        "\n",
        "from tensorflow_docs.vis import embed\n",
        "import tensorflow as tf\n",
        "import numpy as np"
      ],
      "execution_count": null,
      "outputs": []
    },
    {
      "cell_type": "code",
      "metadata": {
        "id": "dJ0DKi8CGkrP"
      },
      "source": [
        "# Code to plot images and animations...\n",
        "def display_image(image):\n",
        "  image = tf.constant(image)\n",
        "  image = tf.image.convert_image_dtype(image, tf.uint8)\n",
        "  return PIL.Image.fromarray(image.numpy())\n",
        "\n",
        "\n",
        "def animate(images):\n",
        "  images = np.array(images)\n",
        "  converted_images = np.clip(images * 255, 0, 255).astype(np.uint8)\n",
        "  imageio.mimsave('./animation.gif', converted_images)\n",
        "  return embed.embed_file('./animation.gif')"
      ],
      "execution_count": null,
      "outputs": []
    },
    {
      "cell_type": "markdown",
      "metadata": {
        "id": "K_FO6xw51BHf"
      },
      "source": [
        "Load the TensorFlow Hub model"
      ]
    },
    {
      "cell_type": "code",
      "metadata": {
        "id": "NmVaLueZFcWq"
      },
      "source": [
        "import tensorflow_hub as hub\n",
        "progan = hub.load(\"https://tfhub.dev/google/progan-128/1\").signatures['default']\n"
      ],
      "execution_count": null,
      "outputs": []
    },
    {
      "cell_type": "markdown",
      "metadata": {
        "id": "7LFhWB6rFk82"
      },
      "source": [
        "The model takes as input a vector of latent_dim=512 elements extracted from a normal distribution"
      ]
    },
    {
      "cell_type": "code",
      "metadata": {
        "id": "_n3PtygTFe_v"
      },
      "source": [
        "latent_dim = 512"
      ],
      "execution_count": null,
      "outputs": []
    },
    {
      "cell_type": "markdown",
      "metadata": {
        "id": "yi3D6312Ismd"
      },
      "source": [
        "try to run the following cell several times and see how the results change, each time you generate a different latent vector, you obtain a different image as output."
      ]
    },
    {
      "cell_type": "code",
      "metadata": {
        "id": "JLMhKxicGY4y"
      },
      "source": [
        "z = tf.random.normal([latent_dim])\n",
        "output_img = progan(z)['default']\n",
        "display_image(output_img[0])"
      ],
      "execution_count": null,
      "outputs": []
    },
    {
      "cell_type": "markdown",
      "metadata": {
        "id": "WG86hzPiLBr7"
      },
      "source": [
        "Latent vectors (or embeddings) correspond to image representations in multidimensional spaces we can interpolate between them and \"merge\" different images"
      ]
    },
    {
      "cell_type": "code",
      "metadata": {
        "id": "Wm_GR1KiLmwK"
      },
      "source": [
        "def interpolate_hypersphere(v1, v2, num_steps):\n",
        "  v1_norm = tf.norm(v1)\n",
        "  v2_norm = tf.norm(v2)\n",
        "  v2_normalized = v2 * (v1_norm / v2_norm)\n",
        "\n",
        "  vectors = []\n",
        "  for step in range(num_steps):\n",
        "    interpolated = v1 + (v2_normalized - v1) * step / (num_steps - 1)\n",
        "    interpolated_norm = tf.norm(interpolated)\n",
        "    interpolated_normalized = interpolated * (v1_norm / interpolated_norm)\n",
        "    vectors.append(interpolated_normalized)\n",
        "  return tf.stack(vectors)"
      ],
      "execution_count": null,
      "outputs": []
    },
    {
      "cell_type": "markdown",
      "metadata": {
        "id": "VNlPWTbhLxvz"
      },
      "source": [
        "Let us consider two latent vectors"
      ]
    },
    {
      "cell_type": "code",
      "metadata": {
        "id": "iWg799Y3L0Zm"
      },
      "source": [
        "z1 = tf.random.normal([latent_dim])\n",
        "output_img = progan(z1)['default']\n",
        "display_image(output_img[0])"
      ],
      "execution_count": null,
      "outputs": []
    },
    {
      "cell_type": "code",
      "metadata": {
        "id": "vIPLekMaL3PY"
      },
      "source": [
        "z2 = tf.random.normal([latent_dim])\n",
        "output_img = progan(z2)['default']\n",
        "display_image(output_img[0])"
      ],
      "execution_count": null,
      "outputs": []
    },
    {
      "cell_type": "markdown",
      "metadata": {
        "id": "LtfDErDiL7z4"
      },
      "source": [
        "They correspond to two diffewrent images, we can interpolate btw the two vectors to change one image in the other one"
      ]
    },
    {
      "cell_type": "code",
      "metadata": {
        "id": "7A6-WttkMCIj"
      },
      "source": [
        "# Creates a tensor with 50 steps of interpolation between v1 and v2.\n",
        "interpolated_vectors = interpolate_hypersphere(z1, z2, 50)\n",
        "\n",
        "# Uses module to generate images from the latent space.\n",
        "interpolated_images = progan(interpolated_vectors)['default']"
      ],
      "execution_count": null,
      "outputs": []
    },
    {
      "cell_type": "code",
      "metadata": {
        "id": "G7I9gieUMPQo"
      },
      "source": [
        "animate(interpolated_images)"
      ],
      "execution_count": null,
      "outputs": []
    },
    {
      "cell_type": "markdown",
      "metadata": {
        "id": "X4mSPnALQBD3"
      },
      "source": [
        "### Deep Interactive Evolution with CelebA\n",
        "\n",
        "Now we start applying the Deep Interactive evolution model to celebA"
      ]
    },
    {
      "cell_type": "markdown",
      "metadata": {
        "id": "JNsucjWVSQ4X"
      },
      "source": [
        "### Uniform Crossover: FILL THE CODE\n",
        "\n",
        "Two parents are randomly selected and an offspring is generated by choosing from two parents with equal probablity"
      ]
    },
    {
      "cell_type": "code",
      "source": [
        "# Generate a population of vectors of size pop_len X latent_dim\n",
        "pop_len = 10\n",
        "population = tf.random.normal([pop_len, latent_dim])#... FILL THE CODE"
      ],
      "metadata": {
        "id": "pJbdYS6UHNBf"
      },
      "execution_count": null,
      "outputs": []
    },
    {
      "cell_type": "code",
      "metadata": {
        "id": "U6Y8CINRXQ5d"
      },
      "source": [
        "# N.B. later you'll need to copy this cell to insert it in the algorithm!!!\n",
        "# Select two parents randomly from the population: FILL THE CODE\n",
        "# HINT use np.random.randint\n",
        "# population is a n_pop X latent_dim matrix\n",
        "idx_1, idx_2 = np.random.choice(pop_len,2,replace=False)\n",
        "z1 =  population[idx_1]#... FILL THE CODE\n",
        "z2 =  population[idx_2]#... FILL THE CODE\n",
        "\n",
        "# Generate a binary mask using a binomial distribution with params n=1 p=0.5\n",
        "# HINT: use np.random.binomial\n",
        "mask =  np.random.binomial(1,0.5,latent_dim)#... FILL THE CODE\n",
        "\n",
        "# Compute uniform crossover between the two parents: FILL THE CODE\n",
        "# Use the computed binary mask to crossover the two vectords\n",
        "crossover = mask *z1 + (1-mask*z2)  #... FILL THE CODE"
      ],
      "execution_count": null,
      "outputs": []
    },
    {
      "cell_type": "markdown",
      "metadata": {
        "id": "MqYtp5DsYiWr"
      },
      "source": [
        "plot the result of uniform crossover"
      ]
    },
    {
      "cell_type": "code",
      "metadata": {
        "id": "bo1eNYK1ST6C"
      },
      "source": [
        "plt.figure(figsize=(30,10))\n",
        "plt.subplot(131)\n",
        "plt.imshow(progan(z1)['default'][0],aspect='auto'),plt.axis('off')\n",
        "plt.title('Parent I')\n",
        "plt.subplot(132)\n",
        "plt.imshow(progan(z2)['default'][0],aspect='auto'),plt.axis('off')\n",
        "plt.title('Parent II')\n",
        "plt.subplot(133)\n",
        "plt.imshow(progan(crossover)['default'][0],aspect='auto'),plt.axis('off')\n",
        "plt.title(' Uniform Crossover')"
      ],
      "execution_count": null,
      "outputs": []
    },
    {
      "cell_type": "markdown",
      "metadata": {
        "id": "YKmqSghRaGwK"
      },
      "source": [
        "Now wrap up the Crossover process since we will be using it into the Deep Interactive Evolution algorithm (N.B. since this will be run during the Deep Interactive evolution algorithm on the selected vectors, you need to retrieve the population size, i.e. pop_len=len(population))"
      ]
    },
    {
      "cell_type": "code",
      "metadata": {
        "id": "xwt9LiohaQsD"
      },
      "source": [
        "def uniform_crossover(population):\n",
        "  pop_len = len(population)\n",
        "  #... FILL THE CODE (copy it from what you did before)\n",
        "  idx_1, idx_2 = np.random.choice(pop_len,2,replace=False)\n",
        "  z1 =  population[idx_1]#... FILL THE CODE\n",
        "  z2 =  population[idx_2]#... FILL THE CODE\n",
        "\n",
        "  # Generate a binary mask using a binomial distribution with params n=1 p=0.5\n",
        "  # HINT: use np.random.binomial\n",
        "  mask =  np.random.binomial(1,0.5,latent_dim)#... FILL THE CODE\n",
        "\n",
        "  # Compute uniform crossover between the two parents: FILL THE CODE\n",
        "  # Use the computed binary mask to crossover the two vectords\n",
        "  crossover = mask *z1 + (1-mask*z2)\n",
        "\n",
        "  return crossover"
      ],
      "execution_count": null,
      "outputs": []
    },
    {
      "cell_type": "markdown",
      "metadata": {
        "id": "XQZlmEtGZSlo"
      },
      "source": [
        "### Mutate: FILL THE CODE\n",
        "\n",
        "\n",
        "\n",
        "\n",
        "Now we implement the process where a vector is randomly mutated"
      ]
    },
    {
      "cell_type": "code",
      "metadata": {
        "id": "34rqApf8ZRtM"
      },
      "source": [
        "\n",
        "p = 0.5 # probability of mutation happening\n",
        "mutate_var = 0.3 # variance of the normal distribution with with the embeddings\n",
        "                  # are modified\n",
        "\n",
        "def mutate(individual, mutate_var):\n",
        "  # individual is a latent vector\n",
        "  # Binomial distribution probability we want as output either zero or one with a\n",
        "  # 0.5 probability\n",
        "  # FILL THE CODE: hint np.random.binomial\n",
        "  mutate_cond =  np.random.binomial(1,p,1)\n",
        "\n",
        "  # mutation noise\n",
        "  # HINT np.random.randn\n",
        "  noise =  mutate_var * np.random.randn(1, latent_dim)#... FILL THE CODE\n",
        "\n",
        "  # Mutated offspring, N.B. mutation happens depending on  mutate_cond\n",
        "  mutated_offspring =  individual + mutate_cond * noise#... FILL THE CODE\n",
        "\n",
        "  return mutated_offspring"
      ],
      "execution_count": null,
      "outputs": []
    },
    {
      "cell_type": "markdown",
      "metadata": {
        "id": "ug40XocueFj6"
      },
      "source": [
        "Generate a latent vector and its mutated offspring and look at the obtained images. Try different values for `mutate_rate` to see how the mutation changes."
      ]
    },
    {
      "cell_type": "code",
      "metadata": {
        "id": "0H8LWkTGegld"
      },
      "source": [
        "z1 = tf.random.normal([latent_dim])"
      ],
      "execution_count": null,
      "outputs": []
    },
    {
      "cell_type": "code",
      "metadata": {
        "id": "oU-_vFd4dPOb"
      },
      "source": [
        "# apply mutation\n",
        "mutated_z1 = mutate(z1,0.5)\n",
        "\n",
        "# show results\n",
        "plt.figure(figsize=(20,10))\n",
        "plt.subplot(121)\n",
        "plt.imshow(progan(z1)['default'][0],aspect='auto'),plt.axis('off')\n",
        "plt.title('Individual')\n",
        "plt.subplot(122)\n",
        "plt.imshow(progan(mutated_z1)['default'][0],aspect='auto'),plt.axis('off')\n",
        "plt.title('Mutation')\n"
      ],
      "execution_count": null,
      "outputs": []
    },
    {
      "cell_type": "markdown",
      "metadata": {
        "id": "U9c_2bSYer40"
      },
      "source": [
        "### Evolve: FILL THE CODE\n",
        "\n",
        "Now we finally define the function that will enable the evolution of our population"
      ]
    },
    {
      "cell_type": "code",
      "metadata": {
        "id": "3cGlx0C4p08L"
      },
      "source": [
        "# number of foreign individuals (chromosomes) introduced at each iteration\n",
        "foreign = 2"
      ],
      "execution_count": null,
      "outputs": []
    },
    {
      "cell_type": "code",
      "metadata": {
        "id": "m94LDfXme23l"
      },
      "source": [
        "def evolve(z, indices, mutate_var, shuffle=True):\n",
        "  \"\"\"\n",
        "  z: latent vectors corresponding to the members of the populations\n",
        "  indices: indices of the selected latent vectors\n",
        "  mutate_var: mutation rate\n",
        "  shuffle: change presented vectors order\n",
        "  \"\"\"\n",
        "\n",
        "  # Select the vectors that we want to preserve from the population: FILL THE CODE\n",
        "  selections =  z[indices]#... FILL THE CODE\n",
        "\n",
        "  # Difference between total number of desired chromosomes and the selected ones\n",
        "  diff = n_pop-len(selections)\n",
        "  x = np.max([0, diff])\n",
        "\n",
        "  # Perform uniform crossover and mutation: FILL THE CODE\n",
        "  # HINT: Perform crossover, then mutation\n",
        "  # HINT: output matrix must be a np.array of size x-foreign X latent_dim\n",
        "  cross = np.array([mutate(uniform_crossover(selections), mutate_var) for i in range(x-foreign)]).squeeze(axis=1) #... FILL THE CODE ]).squeeze(axis=1)\n",
        "\n",
        "  # Introduce new chromosomes/individuals!\n",
        "  x = np.min((foreign,diff))\n",
        "  new = np.random.randn(x,latent_dim) # new individual\n",
        "\n",
        "  # Apply mutation to selections\n",
        "  selections = np.array([mutate(selection, mutate_var) for selection in selections]).squeeze(axis=1)#... FILL THE CODE]).squeeze(axis=1)\n",
        "\n",
        "\n",
        "  # Stack together the population vectors\n",
        "  z = np.vstack((selections, cross, new))\n",
        "\n",
        "  # if not shuffle, the first n(selected) samples are mutated selected samples,\n",
        "    # the last n(foreign) samples are foreign samples, and all samples inbetween are crossovers\n",
        "  if shuffle:\n",
        "      np.random.shuffle(z)\n",
        "  return z\n"
      ],
      "execution_count": null,
      "outputs": []
    },
    {
      "cell_type": "markdown",
      "metadata": {
        "id": "qwz7X_VksWmA"
      },
      "source": [
        "# Finally perform evolution!\n",
        "\n",
        "First generate a population of latent vectors"
      ]
    },
    {
      "cell_type": "code",
      "source": [
        "n_pop = 10 # Population size"
      ],
      "metadata": {
        "id": "JhnwyjUMACbm"
      },
      "execution_count": null,
      "outputs": []
    },
    {
      "cell_type": "code",
      "metadata": {
        "id": "8oqj8bLltXq1"
      },
      "source": [
        "z = tf.random.normal([n_pop,latent_dim])"
      ],
      "execution_count": null,
      "outputs": []
    },
    {
      "cell_type": "markdown",
      "metadata": {
        "id": "lw2r0Y8lujmY"
      },
      "source": [
        "Run the next two cells continuously to simulate the interactive evolution process"
      ]
    },
    {
      "cell_type": "code",
      "metadata": {
        "id": "INuSoJuJtC9x"
      },
      "source": [
        "print('Start Img Generation')\n",
        "plt.figure(figsize=(int(n_pop/2)*10,20))\n",
        "for i in range(n_pop):\n",
        "  imgs = progan(z[i])['default'][0]\n",
        "  plt.subplot(2,int(n_pop/2),i+1)\n",
        "  plt.imshow(imgs,aspect='auto')\n",
        "  plt.title(str(i),fontsize=50)\n",
        "  plt.axis('off')"
      ],
      "execution_count": null,
      "outputs": []
    },
    {
      "cell_type": "code",
      "metadata": {
        "id": "uXQhRtMYtqxp"
      },
      "source": [
        "list_selected = [0, 1,2] # insert the indices of the samples you'd like to keep\n",
        "z = evolve(z.numpy(), list_selected, mutate_var=0, shuffle=True)\n",
        "z = tf.convert_to_tensor(tf.cast(z,dtype=tf.float32)) # Z Needs to go back to tf.Tensor before being fed to ProGAN"
      ],
      "execution_count": null,
      "outputs": []
    }
  ]
}